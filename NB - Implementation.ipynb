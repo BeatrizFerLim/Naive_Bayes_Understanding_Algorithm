{
 "cells": [
  {
   "cell_type": "code",
   "execution_count": null,
   "id": "d98685c5",
   "metadata": {},
   "outputs": [],
   "source": [
    "# Standard libraries\n",
    "import numpy as np\n",
    "import pandas as pd\n",
    "import seaborn as sn\n",
    "import matplotlib.pyplot as plt\n",
    "%matplotlib inline\n",
    "\n",
    "# Other libraries and methods used in the code\n",
    "from sklearn.model_selection import train_test_split\n",
    "from sklearn.naive_bayes import GaussianNB\n",
    "from sklearn.metrics import classification_report\n",
    "from sklearn import preprocessing\n",
    "from sklearn.metrics import confusion_matrix\n",
    "from imblearn.over_sampling import RandomOverSampler\n",
    "from imblearn.under_sampling import RandomUnderSampler\n",
    "from sklearn.metrics import ConfusionMatrixDisplay"
   ]
  },
  {
   "cell_type": "code",
   "execution_count": null,
   "id": "2c23dc26",
   "metadata": {},
   "outputs": [],
   "source": [
    "def adjusting_non_numerical_attributes(column, df):\n",
    "    le = preprocessing.LabelEncoder()\n",
    "    le.fit(df[column])\n",
    "    df[column] = le.transform(df[column])"
   ]
  },
  {
   "cell_type": "code",
   "execution_count": null,
   "id": "729421d7",
   "metadata": {},
   "outputs": [],
   "source": [
    "def apply_the_split(X, y):\n",
    "    X_train, X_test, y_train, y_test = train_test_split(X, y, test_size=0.2, stratify=y)\n",
    "    return(X_train, X_test, y_train, y_test)"
   ]
  },
  {
   "cell_type": "code",
   "execution_count": null,
   "id": "a6355a68",
   "metadata": {},
   "outputs": [],
   "source": [
    "def train_the_model_and_make_predictions(X_train, y_train, X_test):\n",
    "    clf = GaussianNB()\n",
    "    clf.fit(X_train, y_train)\n",
    "    y_pred = clf.predict(X_test)\n",
    "    return y_pred"
   ]
  },
  {
   "cell_type": "code",
   "execution_count": null,
   "id": "fc87ec51",
   "metadata": {},
   "outputs": [],
   "source": [
    "# Read the file containing the data\n",
    "df = pd.read_csv('BankChurners.csv')\n",
    "df.drop(['Naive_Bayes_Classifier_Attrition_Flag_Card_Category_Contacts_Count_12_mon_Dependent_count_Education_Level_Months_Inactive_12_mon_1','Naive_Bayes_Classifier_Attrition_Flag_Card_Category_Contacts_Count_12_mon_Dependent_count_Education_Level_Months_Inactive_12_mon_2'], axis = 1, inplace=True)\n",
    "df.info()"
   ]
  },
  {
   "cell_type": "code",
   "execution_count": null,
   "id": "c6f696a9",
   "metadata": {},
   "outputs": [],
   "source": [
    "# Turn the object data into numerical data\n",
    "for column in df:\n",
    "    if df[column].dtype == 'object':\n",
    "        adjusting_non_numerical_attributes(column, df)\n",
    "df.info()"
   ]
  },
  {
   "cell_type": "code",
   "execution_count": null,
   "id": "6da810f0",
   "metadata": {},
   "outputs": [],
   "source": [
    "# Checking to see if there are any missing values\n",
    "df.isna().sum()"
   ]
  },
  {
   "cell_type": "code",
   "execution_count": null,
   "id": "ab58f206",
   "metadata": {},
   "outputs": [],
   "source": [
    "# Generating the heatmap to analyze if there any attributes highly correlated\n",
    "fig, ax = plt.subplots(figsize=(20,20)) \n",
    "corr_matrix = df.corr()\n",
    "sn.heatmap(corr_matrix, annot = True, ax=ax)\n",
    "fig.savefig(\"heatmap_nb.png\")"
   ]
  },
  {
   "cell_type": "code",
   "execution_count": null,
   "id": "f1d68c50",
   "metadata": {},
   "outputs": [],
   "source": [
    "# Visualizing the data distribution of an example of uncorrelated attributes\n",
    "plt.style.use('seaborn-whitegrid')\n",
    "fig, ax = plt.subplots(figsize=(10,6))\n",
    "\n",
    "# Plot the data\n",
    "scatter = ax.scatter(x=df[\"Months_on_book\"],\n",
    "                     y=df[\"Marital_Status\"],\n",
    "                     c=df[\"Attrition_Flag\"],\n",
    "                     cmap='PiYG',\n",
    "                     marker='*');\n",
    "\n",
    "# Customize the plot\n",
    "ax.set(title=\"Dataset attributes\",\n",
    "       xlabel = \"Months_on_book\",\n",
    "       ylabel = \"Marital_Status\");\n",
    "\n",
    "# Add a legend\n",
    "ax.legend(*scatter.legend_elements(), title=\"Target\");\n",
    "fig.savefig(\"relation_btw_uncorrelated_attributes.png\")"
   ]
  },
  {
   "cell_type": "code",
   "execution_count": null,
   "id": "519034ec",
   "metadata": {},
   "outputs": [],
   "source": [
    "# Visualizing the data distribution of an example of correlated attributes\n",
    "plt.style.use('seaborn-whitegrid')\n",
    "fig, ax = plt.subplots(figsize=(10,6))\n",
    "\n",
    "# Plot the data\n",
    "scatter = ax.scatter(x=df[\"Credit_Limit\"],\n",
    "                     y=df[\"Avg_Open_To_Buy\"],\n",
    "                     c=df[\"Attrition_Flag\"],\n",
    "                     cmap='PiYG',\n",
    "                     marker='*');\n",
    "\n",
    "# Customize the plot\n",
    "ax.set(title=\"Dataset attributes\",\n",
    "       xlabel = \"Credit_Limit\",\n",
    "       ylabel = \"Avg_Open_To_Buy\");\n",
    "\n",
    "# Add a legend\n",
    "ax.legend(*scatter.legend_elements(), title=\"Target\");\n",
    "fig.savefig(\"relation_btw_correlated_attributes_2.png\")"
   ]
  },
  {
   "cell_type": "code",
   "execution_count": null,
   "id": "88de69cd",
   "metadata": {},
   "outputs": [],
   "source": [
    "# Visualizing the data distribution of another example of correlated attributes\n",
    "plt.style.use('seaborn-whitegrid')\n",
    "fig, ax = plt.subplots(figsize=(10,6))\n",
    "\n",
    "# Plot the data\n",
    "scatter = ax.scatter(x=df[\"Months_on_book\"],\n",
    "                     y=df[\"Customer_Age\"],\n",
    "                     c=df[\"Attrition_Flag\"],\n",
    "                     cmap='PiYG',\n",
    "                     marker='*');\n",
    "\n",
    "# Customize the plot\n",
    "ax.set(title=\"Dataset attributes\",\n",
    "       xlabel = \"Months_on_book\",\n",
    "       ylabel = \"Customer_Age\");\n",
    "\n",
    "# Add a legend\n",
    "ax.legend(*scatter.legend_elements(), title=\"Target\");\n",
    "fig.savefig(\"relation_btw_correlated_attributes.png\")"
   ]
  },
  {
   "cell_type": "code",
   "execution_count": null,
   "id": "2d8cdb11",
   "metadata": {},
   "outputs": [],
   "source": [
    "# Discarding highly correlated attributes with many possible values for each\n",
    "df.drop(['Customer_Age','Total_Trans_Ct','Total_Revolving_Bal','Credit_Limit'], axis=1, inplace=True) #Alta correlação com months in the book e muitos valores possíveis"
   ]
  },
  {
   "cell_type": "code",
   "execution_count": null,
   "id": "d809226e",
   "metadata": {},
   "outputs": [],
   "source": [
    "# Splitting the data into train and test sets\n",
    "X = df.drop(['Attrition_Flag'], axis=1)\n",
    "y = df['Attrition_Flag']\n",
    "X_train, X_test, y_train, y_test = apply_the_split(X,y)"
   ]
  },
  {
   "cell_type": "code",
   "execution_count": null,
   "id": "38a2885b",
   "metadata": {},
   "outputs": [],
   "source": [
    "# Making the predictions with raw data\n",
    "y_pred = train_the_model_and_make_predictions(X_train, y_train, X_test)\n",
    "print(classification_report(y_test,y_pred))"
   ]
  },
  {
   "cell_type": "code",
   "execution_count": null,
   "id": "b139ab0c",
   "metadata": {},
   "outputs": [],
   "source": [
    "# Analyzing the Confusion Matrix\n",
    "plt.style.use('seaborn-white')\n",
    "fig, ax = plt.subplots(figsize=(10,6))\n",
    "\n",
    "ConfusionMatrixDisplay.from_estimator(estimator = clf, X=X,y=y, ax = ax,cmap='gist_ncar')\n",
    "#fig.savefig(\"cm_w_warning.png\")"
   ]
  },
  {
   "cell_type": "code",
   "execution_count": null,
   "id": "e7f88c3a",
   "metadata": {},
   "outputs": [],
   "source": [
    "# Trying the oversampling method to see how this affects the metrics\n",
    "oversample = RandomOverSampler(sampling_strategy='minority')\n",
    "X_over, y_over = oversample.fit_resample(X, y)\n",
    "X_train, X_test, y_train, y_test = apply_the_split(X_over,y_over)\n",
    "\n",
    "# Retraining the model and making another predictions\n",
    "y_pred = train_the_model_and_make_predictions(X_train, y_train, X_test)\n",
    "print(classification_report(y_test,y_pred))"
   ]
  },
  {
   "cell_type": "code",
   "execution_count": null,
   "id": "b978e984",
   "metadata": {},
   "outputs": [],
   "source": [
    "# Trying the undersampling method to see how this affects the metrics\n",
    "undersample = RandomUnderSampler(sampling_strategy='majority')\n",
    "X_under, y_under = undersample.fit_resample(X, y)\n",
    "X_train, X_test, y_train, y_test = apply_the_split(X_under,y_under)\n",
    "\n",
    "# Retraining the model and making another predictions\n",
    "y_pred = train_the_model_and_make_predictions(X_train, y_train, X_test)\n",
    "print(classification_report(y_test,y_pred))"
   ]
  },
  {
   "cell_type": "code",
   "execution_count": null,
   "id": "001b83e7",
   "metadata": {},
   "outputs": [],
   "source": [
    "# Normalizing the data (by feature) to the same scale, analyzing if this improves the accuracy and the other metrics\n",
    "d = preprocessing.normalize(X, axis=0)\n",
    "scaled_X = pd.DataFrame(d, columns=X.columns)\n",
    "scaled_X.info()"
   ]
  },
  {
   "cell_type": "code",
   "execution_count": null,
   "id": "f981d190",
   "metadata": {},
   "outputs": [],
   "source": [
    "# Spplitting the data into Train and Test sets with the normalized X\n",
    "X_train, X_test, y_train, y_test = apply_the_split(scaled_X,y)\n",
    "\n",
    "# Retraining the model and making another predictions\n",
    "y_pred = train_the_model_and_make_predictions(X_train, y_train, X_test)\n",
    "print(classification_report(y_test,y_pred))"
   ]
  },
  {
   "cell_type": "code",
   "execution_count": null,
   "id": "5e39c724",
   "metadata": {},
   "outputs": [],
   "source": [
    "# Analyzing the Confusion Matrix\n",
    "plt.style.use('seaborn-white')\n",
    "fig, ax = plt.subplots(figsize=(10,6))\n",
    "\n",
    "ConfusionMatrixDisplay.from_estimator(estimator = clf_norm, X=scaled_X,y=y, ax = ax, cmap='gist_ncar')\n",
    "fig.savefig(\"cm_wo_warning.png\")"
   ]
  }
 ],
 "metadata": {
  "kernelspec": {
   "display_name": "Python 3 (ipykernel)",
   "language": "python",
   "name": "python3"
  },
  "language_info": {
   "codemirror_mode": {
    "name": "ipython",
    "version": 3
   },
   "file_extension": ".py",
   "mimetype": "text/x-python",
   "name": "python",
   "nbconvert_exporter": "python",
   "pygments_lexer": "ipython3",
   "version": "3.9.12"
  }
 },
 "nbformat": 4,
 "nbformat_minor": 5
}
